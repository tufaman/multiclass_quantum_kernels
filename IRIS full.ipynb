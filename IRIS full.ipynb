{
 "cells": [
  {
   "cell_type": "code",
   "execution_count": 1,
   "id": "e6115e62",
   "metadata": {
    "id": "Kk-I2EWOyUfN"
   },
   "outputs": [],
   "source": [
    "from sklearn.decomposition import PCA\n",
    "from pennylane import numpy as np\n",
    "import pennylane as qml\n",
    "from sklearn.svm import SVC\n",
    "from sklearn.model_selection import train_test_split\n",
    "import matplotlib.pyplot as plt\n",
    "from itertools import combinations\n",
    "from scipy import stats as st\n",
    "from sklearn.preprocessing import MinMaxScaler\n",
    "%matplotlib inline"
   ]
  },
  {
   "cell_type": "markdown",
   "id": "3655afd5",
   "metadata": {
    "id": "4O1BFVmjTx-X"
   },
   "source": [
    "# Function Definitions and Quantum Device Setup"
   ]
  },
  {
   "cell_type": "code",
   "execution_count": 151,
   "id": "9de8e502",
   "metadata": {
    "id": "zWwF6fvy1xV8"
   },
   "outputs": [],
   "source": [
    "def layer(x, params, wires, i0=0, inc=1):\n",
    "    \"\"\"Building block of the embedding ansatz\"\"\"\n",
    "    i = i0\n",
    "    for j, wire in enumerate(wires):\n",
    "        qml.Hadamard(wires=[wire])\n",
    "        qml.RZ(x[i % len(x)], wires=[wire])\n",
    "        i += inc\n",
    "        qml.RY(params[0, j], wires=[wire])\n",
    "\n",
    "    qml.broadcast(unitary=qml.CRZ, pattern=\"ring\", wires=wires, parameters=params[1])"
   ]
  },
  {
   "cell_type": "code",
   "execution_count": 152,
   "id": "22c349c7",
   "metadata": {
    "id": "0IdO_nZu1477"
   },
   "outputs": [],
   "source": [
    "def ansatz(x, params, wires):\n",
    "    \"\"\"The embedding ansatz\"\"\"\n",
    "    for j, layer_params in enumerate(params):\n",
    "        layer(x, layer_params, wires, i0=j * len(wires))\n",
    "\n",
    "\n",
    "adjoint_ansatz = qml.adjoint(ansatz)"
   ]
  },
  {
   "cell_type": "code",
   "execution_count": 153,
   "id": "14f629f3",
   "metadata": {
    "id": "WGZCFs-018cH"
   },
   "outputs": [],
   "source": [
    "def random_params(num_wires, num_layers):\n",
    "    \"\"\"Generate random variational parameters in the shape for the ansatz.\"\"\"\n",
    "    np.random.seed(5687)\n",
    "    return np.random.uniform(0, 2 * np.pi, (num_layers, 2, num_wires), requires_grad=True)"
   ]
  },
  {
   "cell_type": "code",
   "execution_count": 198,
   "id": "3cb7927e",
   "metadata": {
    "id": "XT_Qbxvi1-Yy"
   },
   "outputs": [],
   "source": [
    "dev = qml.device(\"default.qubit\", wires=3, shots=None)\n",
    "wires = dev.wires.tolist()"
   ]
  },
  {
   "cell_type": "code",
   "execution_count": 156,
   "id": "b1812921",
   "metadata": {
    "id": "TwDGI7Rf2BpD"
   },
   "outputs": [],
   "source": [
    "@qml.qnode(dev)\n",
    "def kernel_circuit(x1, x2, params):\n",
    "    ansatz(x1, params, wires=wires)\n",
    "    adjoint_ansatz(x2, params, wires=wires)\n",
    "    return qml.probs(wires=wires)"
   ]
  },
  {
   "cell_type": "code",
   "execution_count": 157,
   "id": "5eb2ddee",
   "metadata": {
    "id": "MvNnaMPL2HLL"
   },
   "outputs": [],
   "source": [
    "def kernel(x1, x2, params):\n",
    "    return kernel_circuit(x1, x2, params)[0]"
   ]
  },
  {
   "cell_type": "code",
   "execution_count": 5,
   "id": "fb7f282d",
   "metadata": {
    "id": "zFgscTvh2fLy"
   },
   "outputs": [],
   "source": [
    "def accuracy(classifier, X, Y_target):\n",
    "    return 1 - np.count_nonzero(classifier.predict(X) - Y_target) / len(Y_target)"
   ]
  },
  {
   "cell_type": "code",
   "execution_count": 159,
   "id": "de924da9",
   "metadata": {
    "id": "SXfTbGzAftwN"
   },
   "outputs": [],
   "source": [
    "def target_alignment(\n",
    "    X,\n",
    "    Y,\n",
    "    kernel,\n",
    "    assume_normalized_kernel=False,\n",
    "    rescale_class_labels=True,\n",
    "):\n",
    "    \"\"\"Kernel-target alignment between kernel and labels.\"\"\"\n",
    "\n",
    "    K = qml.kernels.square_kernel_matrix(\n",
    "        X,\n",
    "        kernel,\n",
    "        assume_normalized_kernel=assume_normalized_kernel,\n",
    "    )\n",
    "\n",
    "    if rescale_class_labels:\n",
    "        nplus = np.count_nonzero(np.array(Y) == 1)\n",
    "        nminus = len(Y) - nplus\n",
    "        _Y = np.array([y / nplus if y == 1 else y / nminus for y in Y])\n",
    "    else:\n",
    "        _Y = np.array(Y)\n",
    "\n",
    "    T = np.outer(_Y, _Y)\n",
    "    inner_product = np.sum(K * T)\n",
    "    norm = np.sqrt(np.sum(K * K) * np.sum(T * T))\n",
    "    inner_product = inner_product / norm\n",
    "\n",
    "    return inner_product"
   ]
  },
  {
   "cell_type": "code",
   "execution_count": 160,
   "id": "57da1590",
   "metadata": {
    "id": "JXjh49oozdxk"
   },
   "outputs": [],
   "source": [
    "def train(params, X_train, y_train, steps, subset_size, lr,alignment_target=None, idx=None):\n",
    "    opt = qml.GradientDescentOptimizer(lr)\n",
    "\n",
    "    for i in range(steps):\n",
    "        # Choose subset of datapoints to compute the KTA on.\n",
    "        if idx:\n",
    "            subset = idx\n",
    "        else:\n",
    "            subset = np.random.choice(list(range(len(X_train))), subset_size)\n",
    "        # Define the cost function for optimization\n",
    "        cost = lambda _params: -target_alignment(\n",
    "          X_train[subset],\n",
    "          y_train[subset],\n",
    "          lambda x1, x2: kernel(x1, x2, _params),\n",
    "          assume_normalized_kernel=True,\n",
    "        )\n",
    "        # Optimization step\n",
    "        params = opt.step(cost, params)\n",
    "\n",
    "        # Report the alignment on the full dataset every 50 steps.\n",
    "        if (i + 1) % 50 == 0:\n",
    "            current_alignment = target_alignment(\n",
    "              X_train,\n",
    "              y_train,\n",
    "              lambda x1, x2: kernel(x1, x2, params),\n",
    "              assume_normalized_kernel=True,\n",
    "            )\n",
    "            print(f\"Step {i+1} - Alignment = {current_alignment:.3f}\")\n",
    "            if alignment_target and (current_alignment >= alignment_target):\n",
    "                break\n",
    "    return params"
   ]
  },
  {
   "cell_type": "code",
   "execution_count": 2,
   "id": "647b7e48",
   "metadata": {},
   "outputs": [],
   "source": [
    "from sklearn.datasets import load_iris\n",
    "data = load_iris()"
   ]
  },
  {
   "cell_type": "code",
   "execution_count": 3,
   "id": "3f291993",
   "metadata": {},
   "outputs": [],
   "source": [
    "Y = np.copy(data['target'])\n",
    "X = data['data']\n",
    "# pca = PCA(n_components=2)\n",
    "# X = pca.fit_transform(X)\n",
    "scaler = MinMaxScaler()\n",
    "X_minmax = scaler.fit_transform(X)*np.pi"
   ]
  },
  {
   "cell_type": "code",
   "execution_count": 6,
   "id": "76f593ff",
   "metadata": {},
   "outputs": [
    {
     "name": "stdout",
     "output_type": "stream",
     "text": [
      "Kernel: rbf\t Mean: 92.67 \t Std: 2.00\n",
      "Kernel: linear\t Mean: 92.89 \t Std: 0.89\n",
      "Kernel: poly\t Mean: 92.44 \t Std: 3.01\n"
     ]
    }
   ],
   "source": [
    "for ker in ['rbf', 'linear', 'poly']:\n",
    "    acc = []\n",
    "    for rdm in [5,  8,  9, 15, 17, 30, 31, 34, 41, 42]:\n",
    "        X_train, X_test, y_train, y_test = train_test_split(X_minmax,Y, test_size=0.3, stratify=Y, random_state=rdm)\n",
    "        clf = SVC(kernel=ker)\n",
    "        clf.fit(X_train, y_train)\n",
    "        acc.append(accuracy(clf, X_test, y_test)*100)\n",
    "    print(f\"Kernel: {ker}\\t Mean: {np.mean(acc):.2f} \\t Std: {np.std(acc):.2f}\")"
   ]
  },
  {
   "cell_type": "code",
   "execution_count": 199,
   "id": "1e7382c5",
   "metadata": {
    "scrolled": false
   },
   "outputs": [
    {
     "name": "stdout",
     "output_type": "stream",
     "text": [
      "Test Accuracy:100.00\n",
      "Test Accuracy:100.00\n",
      "Test Accuracy:100.00\n",
      "Final Accuracy Untrained 100.00\n",
      "Final Accuracy Trained 100.00\n",
      "Test Accuracy:100.00\n",
      "Test Accuracy:100.00\n",
      "Test Accuracy:93.33\n",
      "Step 50 - Alignment = 0.446\n",
      "Step 100 - Alignment = 0.452\n",
      "Step 150 - Alignment = 0.472\n",
      "Step 200 - Alignment = 0.458\n",
      "Step 250 - Alignment = 0.472\n",
      "Step 300 - Alignment = 0.439\n",
      "Step 350 - Alignment = 0.437\n",
      "Step 400 - Alignment = 0.456\n",
      "Step 450 - Alignment = 0.430\n",
      "Step 500 - Alignment = 0.460\n",
      "Test Accuracy:96.67\n",
      "Final Accuracy Untrained 95.56\n",
      "Final Accuracy Trained 97.78\n",
      "Test Accuracy:100.00\n",
      "Test Accuracy:100.00\n",
      "Test Accuracy:96.67\n",
      "Step 50 - Alignment = 0.428\n",
      "Step 100 - Alignment = 0.431\n",
      "Step 150 - Alignment = 0.414\n",
      "Step 200 - Alignment = 0.424\n",
      "Step 250 - Alignment = 0.449\n",
      "Step 300 - Alignment = 0.447\n",
      "Step 350 - Alignment = 0.444\n",
      "Step 400 - Alignment = 0.448\n",
      "Step 450 - Alignment = 0.462\n",
      "Step 500 - Alignment = 0.456\n",
      "Test Accuracy:96.67\n",
      "Step 50 - Alignment = 0.458\n",
      "Step 100 - Alignment = 0.452\n",
      "Step 150 - Alignment = 0.447\n",
      "Step 200 - Alignment = 0.454\n",
      "Step 250 - Alignment = 0.433\n",
      "Step 300 - Alignment = 0.453\n",
      "Step 350 - Alignment = 0.462\n",
      "Step 400 - Alignment = 0.451\n",
      "Step 450 - Alignment = 0.451\n",
      "Step 500 - Alignment = 0.436\n",
      "Test Accuracy:96.67\n",
      "Step 50 - Alignment = 0.458\n",
      "Step 100 - Alignment = 0.464\n",
      "Step 150 - Alignment = 0.452\n",
      "Step 200 - Alignment = 0.458\n",
      "Step 250 - Alignment = 0.464\n",
      "Step 300 - Alignment = 0.452\n",
      "Step 350 - Alignment = 0.457\n",
      "Step 400 - Alignment = 0.455\n",
      "Step 450 - Alignment = 0.458\n",
      "Step 500 - Alignment = 0.460\n",
      "Step 550 - Alignment = 0.462\n",
      "Step 600 - Alignment = 0.454\n",
      "Step 650 - Alignment = 0.450\n",
      "Step 700 - Alignment = 0.456\n",
      "Step 750 - Alignment = 0.459\n",
      "Step 800 - Alignment = 0.453\n",
      "Step 850 - Alignment = 0.456\n",
      "Step 900 - Alignment = 0.457\n",
      "Step 950 - Alignment = 0.462\n",
      "Step 1000 - Alignment = 0.464\n",
      "Test Accuracy:96.67\n",
      "Final Accuracy Untrained 97.78\n",
      "Final Accuracy Trained 97.78\n",
      "Test Accuracy:100.00\n",
      "Test Accuracy:96.67\n",
      "Step 50 - Alignment = 0.636\n",
      "Step 100 - Alignment = 0.663\n",
      "Step 150 - Alignment = 0.671\n",
      "Step 200 - Alignment = 0.673\n",
      "Step 250 - Alignment = 0.672\n",
      "Step 300 - Alignment = 0.676\n",
      "Step 350 - Alignment = 0.674\n",
      "Step 400 - Alignment = 0.677\n",
      "Step 450 - Alignment = 0.676\n",
      "Step 500 - Alignment = 0.678\n",
      "Test Accuracy:100.00\n",
      "Test Accuracy:90.00\n",
      "Step 50 - Alignment = 0.478\n",
      "Step 100 - Alignment = 0.478\n",
      "Step 150 - Alignment = 0.477\n",
      "Step 200 - Alignment = 0.481\n",
      "Step 250 - Alignment = 0.493\n",
      "Step 300 - Alignment = 0.479\n",
      "Step 350 - Alignment = 0.487\n",
      "Step 400 - Alignment = 0.485\n",
      "Step 450 - Alignment = 0.477\n",
      "Step 500 - Alignment = 0.501\n",
      "Test Accuracy:93.33\n",
      "Final Accuracy Untrained 91.11\n",
      "Final Accuracy Trained 95.56\n",
      "Test Accuracy:100.00\n",
      "Test Accuracy:100.00\n",
      "Test Accuracy:90.00\n",
      "Step 50 - Alignment = 0.478\n",
      "Step 100 - Alignment = 0.467\n",
      "Step 150 - Alignment = 0.486\n",
      "Step 200 - Alignment = 0.454\n",
      "Step 250 - Alignment = 0.491\n",
      "Step 300 - Alignment = 0.490\n",
      "Step 350 - Alignment = 0.465\n",
      "Step 400 - Alignment = 0.478\n",
      "Step 450 - Alignment = 0.453\n",
      "Step 500 - Alignment = 0.490\n",
      "Test Accuracy:93.33\n",
      "Final Accuracy Untrained 93.33\n",
      "Final Accuracy Trained 95.56\n",
      "Test Accuracy:100.00\n",
      "Test Accuracy:100.00\n",
      "Test Accuracy:83.33\n",
      "Step 50 - Alignment = 0.474\n",
      "Step 100 - Alignment = 0.473\n",
      "Step 150 - Alignment = 0.486\n",
      "Step 200 - Alignment = 0.471\n",
      "Step 250 - Alignment = 0.484\n",
      "Step 300 - Alignment = 0.470\n",
      "Step 350 - Alignment = 0.492\n",
      "Step 400 - Alignment = 0.484\n",
      "Step 450 - Alignment = 0.497\n",
      "Step 500 - Alignment = 0.463\n",
      "Test Accuracy:86.67\n",
      "Final Accuracy Untrained 88.89\n",
      "Final Accuracy Trained 91.11\n",
      "Test Accuracy:100.00\n",
      "Test Accuracy:100.00\n",
      "Test Accuracy:86.67\n",
      "Step 50 - Alignment = 0.507\n",
      "Step 100 - Alignment = 0.508\n",
      "Step 150 - Alignment = 0.494\n",
      "Step 200 - Alignment = 0.501\n",
      "Step 250 - Alignment = 0.514\n",
      "Step 300 - Alignment = 0.483\n",
      "Step 350 - Alignment = 0.510\n",
      "Step 400 - Alignment = 0.523\n",
      "Step 450 - Alignment = 0.507\n",
      "Step 500 - Alignment = 0.512\n",
      "Test Accuracy:93.33\n",
      "Final Accuracy Untrained 91.11\n",
      "Final Accuracy Trained 95.56\n",
      "Test Accuracy:100.00\n",
      "Test Accuracy:100.00\n",
      "Test Accuracy:93.33\n",
      "Step 50 - Alignment = 0.455\n",
      "Step 100 - Alignment = 0.465\n",
      "Step 150 - Alignment = 0.470\n",
      "Step 200 - Alignment = 0.477\n",
      "Step 250 - Alignment = 0.473\n",
      "Step 300 - Alignment = 0.453\n",
      "Step 350 - Alignment = 0.477\n",
      "Step 400 - Alignment = 0.449\n",
      "Step 450 - Alignment = 0.489\n",
      "Step 500 - Alignment = 0.495\n",
      "Test Accuracy:93.33\n",
      "Step 50 - Alignment = 0.499\n",
      "Step 100 - Alignment = 0.499\n",
      "Step 150 - Alignment = 0.495\n",
      "Step 200 - Alignment = 0.486\n",
      "Step 250 - Alignment = 0.501\n",
      "Step 300 - Alignment = 0.492\n",
      "Step 350 - Alignment = 0.497\n",
      "Step 400 - Alignment = 0.495\n",
      "Step 450 - Alignment = 0.497\n",
      "Step 500 - Alignment = 0.492\n",
      "Test Accuracy:93.33\n",
      "Step 50 - Alignment = 0.498\n",
      "Step 100 - Alignment = 0.495\n",
      "Step 150 - Alignment = 0.500\n",
      "Step 200 - Alignment = 0.501\n",
      "Step 250 - Alignment = 0.497\n",
      "Step 300 - Alignment = 0.500\n",
      "Step 350 - Alignment = 0.499\n",
      "Step 400 - Alignment = 0.496\n",
      "Step 450 - Alignment = 0.498\n",
      "Step 500 - Alignment = 0.497\n",
      "Step 550 - Alignment = 0.498\n",
      "Step 600 - Alignment = 0.501\n",
      "Step 650 - Alignment = 0.493\n",
      "Step 700 - Alignment = 0.499\n",
      "Step 750 - Alignment = 0.501\n",
      "Step 800 - Alignment = 0.499\n",
      "Step 850 - Alignment = 0.492\n",
      "Step 900 - Alignment = 0.501\n",
      "Step 950 - Alignment = 0.501\n",
      "Step 1000 - Alignment = 0.498\n",
      "Test Accuracy:93.33\n",
      "Final Accuracy Untrained 95.56\n",
      "Final Accuracy Trained 95.56\n",
      "Test Accuracy:100.00\n",
      "Test Accuracy:96.67\n",
      "Step 50 - Alignment = 0.664\n",
      "Step 100 - Alignment = 0.668\n",
      "Step 150 - Alignment = 0.676\n",
      "Step 200 - Alignment = 0.677\n",
      "Step 250 - Alignment = 0.675\n",
      "Step 300 - Alignment = 0.678\n",
      "Step 350 - Alignment = 0.677\n",
      "Step 400 - Alignment = 0.674\n",
      "Step 450 - Alignment = 0.680\n",
      "Step 500 - Alignment = 0.676\n",
      "Test Accuracy:100.00\n",
      "Test Accuracy:86.67\n",
      "Step 50 - Alignment = 0.483\n",
      "Step 100 - Alignment = 0.495\n",
      "Step 150 - Alignment = 0.506\n",
      "Step 200 - Alignment = 0.509\n",
      "Step 250 - Alignment = 0.493\n",
      "Step 300 - Alignment = 0.495\n",
      "Step 350 - Alignment = 0.508\n",
      "Step 400 - Alignment = 0.519\n",
      "Step 450 - Alignment = 0.515\n",
      "Step 500 - Alignment = 0.510\n",
      "Test Accuracy:90.00\n",
      "Final Accuracy Untrained 88.89\n",
      "Final Accuracy Trained 93.33\n",
      "Test Accuracy:100.00\n",
      "Test Accuracy:100.00\n",
      "Test Accuracy:86.67\n",
      "Step 50 - Alignment = 0.458\n",
      "Step 100 - Alignment = 0.497\n",
      "Step 150 - Alignment = 0.493\n",
      "Step 200 - Alignment = 0.510\n",
      "Step 250 - Alignment = 0.514\n",
      "Step 300 - Alignment = 0.480\n",
      "Step 350 - Alignment = 0.490\n",
      "Step 400 - Alignment = 0.485\n",
      "Step 450 - Alignment = 0.506\n",
      "Step 500 - Alignment = 0.500\n",
      "Test Accuracy:96.67\n",
      "Final Accuracy Untrained 91.11\n",
      "Final Accuracy Trained 97.78\n"
     ]
    }
   ],
   "source": [
    "quantum_accuracies_trained = []\n",
    "quantum_accuracies_untrained = []\n",
    "for rdm in [5,  8,  9, 15, 17, 30, 31, 34, 41, 42]:\n",
    "    X_train, X_test, y_train, y_test = train_test_split(X_minmax,Y, test_size=0.3, stratify=Y, random_state=rdm)\n",
    "    pred_all_trained = []\n",
    "    pred_all_untrained = []\n",
    "    all_params = {}\n",
    "    init_params = random_params(num_wires=3, num_layers=6)\n",
    "    init_kernel = lambda x1, x2: kernel(x1, x2, init_params)\n",
    "    for y1, y2 in combinations(np.unique(Y).numpy(), r=2):\n",
    "        mask = (y_train==y1) | (y_train==y2)\n",
    "        y_train_pair = y_train[mask]\n",
    "        X_train_pair = X_train[mask]\n",
    "        y_train_pair [y_train_pair == y1] = -1\n",
    "        y_train_pair [y_train_pair == y2] = 1\n",
    "        svm_untrained = SVC(kernel=lambda X1, X2: qml.kernels.kernel_matrix(X1, X2, init_kernel)).fit(X_train_pair, y_train_pair)\n",
    "        test_mask = (y_test==y1) | (y_test==y2)\n",
    "        y_test_pair = y_test[test_mask]\n",
    "        X_test_pair = X_test[test_mask]\n",
    "        y_test_pair [y_test_pair == y1] = -1\n",
    "        y_test_pair [y_test_pair == y2] = 1\n",
    "        y_pred_pair = svm_untrained.predict(X_test_pair)\n",
    "        test_accuracy = 1 - np.count_nonzero(y_pred_pair - y_test_pair) / len(y_test_pair)\n",
    "        print(f\"Test Accuracy:{test_accuracy*100:.2f}\")\n",
    "        lr = 2\n",
    "        new_test_accuracy = test_accuracy\n",
    "        while (new_test_accuracy != 1) and (new_test_accuracy <= test_accuracy) and (lr >= 0.5):\n",
    "            if lr >=1 :\n",
    "                iterations= 500\n",
    "            else:\n",
    "                iterations= 1000\n",
    "            params = all_params.get((y1, y2), init_params)\n",
    "            params = train(params, X_train_pair, y_train_pair, iterations, 4, lr)\n",
    "            all_params[(y1, y2)] = params\n",
    "            trained_kernel = lambda x1, x2: kernel(x1, x2, params)\n",
    "            svm_trained = SVC(kernel=lambda X1, X2: qml.kernels.kernel_matrix(X1, X2, trained_kernel)).fit(X_train_pair, y_train_pair)\n",
    "            y_pred_pair_new = svm_trained.predict(X_test_pair)\n",
    "            new_test_accuracy = 1 - np.count_nonzero(y_pred_pair_new - y_test_pair) / len(y_test_pair)\n",
    "            print(f\"Test Accuracy:{new_test_accuracy*100:.2f}\")\n",
    "            lr /= 2\n",
    "        untrained_predictions = svm_untrained.predict(X_test)\n",
    "        pred_all_untrained.append((untrained_predictions, (y1,y2)))\n",
    "        if new_test_accuracy <= test_accuracy:\n",
    "            pred_all_trained.append((untrained_predictions, (y1,y2)))\n",
    "        else:\n",
    "            pred_all_trained.append((svm_trained.predict(X_test), (y1,y2)))\n",
    "    y_pred_all = []\n",
    "    for y_pred_pair, labels in pred_all_untrained:\n",
    "        y_pred_pair[y_pred_pair==-1]=0\n",
    "        labels = np.array(labels).numpy()\n",
    "        y_pred_all.append(labels[y_pred_pair])\n",
    "    y_pred = st.mode(np.vstack(y_pred_all).numpy(),axis=0)[0]\n",
    "    final_accuracy_untrained = 1 - np.count_nonzero(y_pred - y_test) / len(y_test)\n",
    "    quantum_accuracies_untrained.append(final_accuracy_untrained*100)\n",
    "    print(f\"Final Accuracy Untrained {final_accuracy_untrained*100:.2f}\")\n",
    "    y_pred_all = []\n",
    "    for y_pred_pair, labels in pred_all_trained:\n",
    "        y_pred_pair[y_pred_pair==-1]=0\n",
    "        labels = np.array(labels).numpy()\n",
    "        y_pred_all.append(labels[y_pred_pair])\n",
    "    y_pred = st.mode(np.vstack(y_pred_all).numpy(),axis=0)[0]\n",
    "    final_accuracy_trained = 1 - np.count_nonzero(y_pred - y_test) / len(y_test)\n",
    "    quantum_accuracies_trained.append(final_accuracy_trained*100)\n",
    "    print(f\"Final Accuracy Trained {final_accuracy_trained*100:.2f}\")"
   ]
  },
  {
   "cell_type": "code",
   "execution_count": 190,
   "id": "71387abe",
   "metadata": {},
   "outputs": [
    {
     "data": {
      "text/plain": [
       "94.44444444444446"
      ]
     },
     "execution_count": 190,
     "metadata": {},
     "output_type": "execute_result"
    }
   ],
   "source": [
    "np.mean(quantum_accuracies_trained)"
   ]
  },
  {
   "cell_type": "code",
   "execution_count": 191,
   "id": "9581b7b3",
   "metadata": {},
   "outputs": [
    {
     "data": {
      "text/plain": [
       "2.048787657176196"
      ]
     },
     "execution_count": 191,
     "metadata": {},
     "output_type": "execute_result"
    }
   ],
   "source": [
    "np.std(quantum_accuracies_trained)"
   ]
  },
  {
   "cell_type": "code",
   "execution_count": 192,
   "id": "afaef414",
   "metadata": {},
   "outputs": [
    {
     "data": {
      "text/plain": [
       "92.0"
      ]
     },
     "execution_count": 192,
     "metadata": {},
     "output_type": "execute_result"
    }
   ],
   "source": [
    "np.mean(quantum_accuracies_untrained)"
   ]
  },
  {
   "cell_type": "code",
   "execution_count": 193,
   "id": "c6ad1a34",
   "metadata": {},
   "outputs": [
    {
     "data": {
      "text/plain": [
       "2.0367003088692623"
      ]
     },
     "execution_count": 193,
     "metadata": {},
     "output_type": "execute_result"
    }
   ],
   "source": [
    "np.std(quantum_accuracies_untrained)"
   ]
  }
 ],
 "metadata": {
  "kernelspec": {
   "display_name": "Python 3 (ipykernel)",
   "language": "python",
   "name": "python3"
  },
  "language_info": {
   "codemirror_mode": {
    "name": "ipython",
    "version": 3
   },
   "file_extension": ".py",
   "mimetype": "text/x-python",
   "name": "python",
   "nbconvert_exporter": "python",
   "pygments_lexer": "ipython3",
   "version": "3.9.13"
  }
 },
 "nbformat": 4,
 "nbformat_minor": 5
}
